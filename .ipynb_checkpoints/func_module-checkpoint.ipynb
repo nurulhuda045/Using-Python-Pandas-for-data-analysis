{
 "cells": [
  {
   "cell_type": "code",
   "execution_count": null,
   "metadata": {},
   "outputs": [],
   "source": [
    "\n",
    "# import numpy as np\n",
    "# import pycountry_convert as pc\n",
    "# import matplotlib.pyplot as plt\n",
    "# from wordcloud import WordCloud\n",
    "# import seaborn as sns"
   ]
  },
  {
   "cell_type": "code",
   "execution_count": null,
   "metadata": {},
   "outputs": [],
   "source": [
    "# Generat word cloud\n",
    "\n",
    "def generate_word_coloud(column,colour):\n",
    "    \n",
    "    words = ''\n",
    "    for i in column:\n",
    "        try:\n",
    "            a=i.split(';')\n",
    "            for j in a:\n",
    "                words+=' '+ j\n",
    "        except:\n",
    "            a=-999\n",
    "\n",
    "    word_cloud = WordCloud(background_color=colour,max_font_size=300,width=2000, height=1080).generate(words)\n",
    "    plt.figure(figsize=(30,8))\n",
    "    return plt.imshow(word_cloud)\n"
   ]
  },
  {
   "cell_type": "code",
   "execution_count": null,
   "metadata": {},
   "outputs": [],
   "source": [
    "\n",
    "# Generate satisfaction data\n",
    "\n",
    "\n",
    "def genrate_satisfaction_data(df,colname1,colname2):\n",
    "    arr = ['Very satisfied', 'Slightly satisfied', 'Slightly dissatisfied',\n",
    "            'Very dissatisfied', 'Neither satisfied nor dissatisfied']\n",
    "    for i in arr:\n",
    "        try:\n",
    "            filt = (df[colname1] == i)\n",
    "            satReport = df.loc[filt, colname2].value_counts().head()\n",
    "            print(i +' developer with their '+ colname1.replace('Sat', '')+'\\n', satReport)\n",
    "        except:\n",
    "            return []"
   ]
  },
  {
   "cell_type": "code",
   "execution_count": null,
   "metadata": {},
   "outputs": [],
   "source": [
    "\n",
    "# Generate a continent array with country\n",
    "\n",
    "def get_continent(col):\n",
    "    continent = []\n",
    "    for i in col:\n",
    "        try:\n",
    "            cn_a2_code =  pc.country_name_to_country_alpha2(i)\n",
    "        except:\n",
    "            cn_a2_code = 'Unknown' \n",
    "        try:\n",
    "            continent.append(pc.country_alpha2_to_continent_code(cn_a2_code))\n",
    "        except:\n",
    "            continent.append('Unknown')\n",
    "\n",
    "    return continent\n"
   ]
  }
 ],
 "metadata": {
  "kernelspec": {
   "display_name": "Python 3",
   "language": "python",
   "name": "python3"
  },
  "language_info": {
   "codemirror_mode": {
    "name": "ipython",
    "version": 3
   },
   "file_extension": ".py",
   "mimetype": "text/x-python",
   "name": "python",
   "nbconvert_exporter": "python",
   "pygments_lexer": "ipython3",
   "version": "3.8.2"
  }
 },
 "nbformat": 4,
 "nbformat_minor": 4
}
